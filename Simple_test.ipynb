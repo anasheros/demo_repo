{
  "nbformat": 4,
  "nbformat_minor": 0,
  "metadata": {
    "colab": {
      "provenance": [],
      "toc_visible": true
    },
    "kernelspec": {
      "name": "python3",
      "display_name": "Python 3"
    },
    "language_info": {
      "name": "python"
    }
  },
  "cells": [
    {
      "cell_type": "code",
      "execution_count": 1,
      "metadata": {
        "colab": {
          "base_uri": "https://localhost:8080/"
        },
        "id": "hvGLh2KnrCvd",
        "outputId": "cc954e6f-cea2-476a-c4bc-3f705da655c3"
      },
      "outputs": [
        {
          "output_type": "stream",
          "name": "stdout",
          "text": [
            "hello git \n"
          ]
        }
      ],
      "source": [
        "#just for test\n",
        "print(\"hello git \")"
      ]
    },
    {
      "cell_type": "code",
      "source": [
        "a =3\n",
        "b=4"
      ],
      "metadata": {
        "id": "DEsFiGH3rJZ-"
      },
      "execution_count": 2,
      "outputs": []
    },
    {
      "cell_type": "code",
      "source": [
        "# lets do the sum\n",
        "print(f\"this is the sum of a and b : {a+b}\")"
      ],
      "metadata": {
        "colab": {
          "base_uri": "https://localhost:8080/"
        },
        "id": "t2YKWxQxrNC4",
        "outputId": "cbd16fe2-e920-4b4d-caed-6a76b752ab62"
      },
      "execution_count": 3,
      "outputs": [
        {
          "output_type": "stream",
          "name": "stdout",
          "text": [
            "this is the sum of a and b : 7\n"
          ]
        }
      ]
    },
    {
      "cell_type": "code",
      "source": [],
      "metadata": {
        "id": "qrFOThu4rWox"
      },
      "execution_count": null,
      "outputs": []
    }
  ]
}
